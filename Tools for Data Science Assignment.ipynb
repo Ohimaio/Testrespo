{
 "cells": [
  {
   "cell_type": "markdown",
   "metadata": {
    "collapsed": true
   },
   "source": [
    "# \"My Jupyter Notebook On IBM Watson Studio\""
   ]
  },
  {
   "cell_type": "markdown",
   "metadata": {},
   "source": [
    "**Ohiosimuan Ohimai**"
   ]
  },
  {
   "cell_type": "markdown",
   "metadata": {},
   "source": [
    " Data Science'"
   ]
  },
  {
   "cell_type": "markdown",
   "metadata": {},
   "source": [
    "*I love data science because it helps me find hideing trends in data*"
   ]
  },
  {
   "cell_type": "markdown",
   "metadata": {},
   "source": [
    "### This code would calculate the body mass index (BMI) of several individuals"
   ]
  },
  {
   "cell_type": "code",
   "execution_count": 7,
   "metadata": {},
   "outputs": [
    {
     "name": "stdout",
     "output_type": "stream",
     "text": [
      "What is your height in feet: 5\n",
      "What is your weight in Kilogram: 80\n",
      "Your body mass index is:  3.2\n"
     ]
    }
   ],
   "source": [
    "height = float(input(\"What is your height in feet: \"))\n",
    "weight = float(input(\"What is your weight in Kilogram: \"))\n",
    "print(\"Your body mass index is: \", round(weight / (height * height), 2))"
   ]
  },
  {
   "cell_type": "markdown",
   "metadata": {},
   "source": [
    "***\n",
    "- Monday\n",
    "* Tuedsay\n",
    "* Wednesday\n",
    "* Thursday \n",
    "* Friday \n",
    "* Saturday \n",
    "* Sunday\n",
    "\n",
    "<a href=\"http://google.com\" target=\"_blank\" rel=\"noopener noreferrer\">link text</a>\n",
    "\n",
    "This link opens a google page"
   ]
  },
  {
   "cell_type": "markdown",
   "metadata": {},
   "source": []
  }
 ],
 "metadata": {
  "kernelspec": {
   "display_name": "Python 3.9",
   "language": "python",
   "name": "python3"
  },
  "language_info": {
   "codemirror_mode": {
    "name": "ipython",
    "version": 3
   },
   "file_extension": ".py",
   "mimetype": "text/x-python",
   "name": "python",
   "nbconvert_exporter": "python",
   "pygments_lexer": "ipython3",
   "version": "3.9.12"
  }
 },
 "nbformat": 4,
 "nbformat_minor": 1
}
